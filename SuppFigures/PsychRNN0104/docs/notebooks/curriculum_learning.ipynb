{
 "cells": [
  {
   "cell_type": "code",
   "execution_count": 1,
   "metadata": {
    "nbsphinx": "hidden"
   },
   "outputs": [],
   "source": [
    "# THIS CELL SETS STUFF UP FOR DEMO / COLLAB. THIS CELL CAN BE IGNORED.\n",
    "\n",
    "#-------------------------------------GET RID OF TF DEPRECATION WARNINGS--------------------------------------#\n",
    "import warnings\n",
    "warnings.filterwarnings('ignore', category=FutureWarning)\n",
    "\n",
    "import tensorflow as tf\n",
    "tf.compat.v1.logging.set_verbosity(tf.compat.v1.logging.ERROR)\n",
    "\n",
    "#----------------------------------INSTALL PSYCHRNN IF IN A COLAB NOTEBOOK-------------------------------------#\n",
    "# Installs the correct branch / release version based on the URL. If no branch is provided, loads from master.\n",
    "try:\n",
    "  import google.colab\n",
    "  IN_COLAB = True\n",
    "except:\n",
    "  IN_COLAB = False\n",
    "\n",
    "if IN_COLAB:\n",
    "    import json\n",
    "    import re\n",
    "    import ipykernel\n",
    "    import requests \n",
    "    from requests.compat import urljoin\n",
    "\n",
    "    from notebook.notebookapp import list_running_servers\n",
    "    kernel_id = re.search('kernel-(.*).json',\n",
    "                          ipykernel.connect.get_connection_file()).group(1)\n",
    "    servers = list_running_servers()\n",
    "    for ss in servers:\n",
    "        response = requests.get(urljoin(ss['url'], 'api/sessions'),\n",
    "                                params={'token': ss.get('token', '')})\n",
    "        for nn in json.loads(response.text):\n",
    "            if nn['kernel']['id'] == kernel_id:\n",
    "                relative_path = nn['notebook']['path'].split('%2F')\n",
    "                if 'blob' in relative_path:\n",
    "                  blob = relative_path[relative_path.index('blob') + 1]\n",
    "                  !pip install git+https://github.com/murraylab/PsychRNN@$blob\n",
    "                else:\n",
    "                  !pip install git+https://github.com/murraylab/PsychRNN"
   ]
  },
  {
   "cell_type": "markdown",
   "metadata": {},
   "source": [
    "# Curriculum Learning"
   ]
  },
  {
   "cell_type": "code",
   "execution_count": 2,
   "metadata": {},
   "outputs": [],
   "source": [
    "from psychrnn.tasks.perceptual_discrimination import PerceptualDiscrimination\n",
    "from psychrnn.backend.models.basic import Basic\n",
    "from psychrnn.backend.curriculum import Curriculum, default_metric\n",
    "import numpy as np\n",
    "\n",
    "from matplotlib import pyplot as plt\n",
    "%matplotlib inline"
   ]
  },
  {
   "cell_type": "markdown",
   "metadata": {},
   "source": [
    "## Instantiate Curriculum Object"
   ]
  },
  {
   "cell_type": "markdown",
   "metadata": {},
   "source": [
    "We generate a list of tasks that constitute our curriculum. We will train on these tasks one after another. In this example, we train the network on tasks with higher coherence, slowly decreasing to lower coherence."
   ]
  },
  {
   "cell_type": "code",
   "execution_count": 3,
   "metadata": {},
   "outputs": [],
   "source": [
    "pds = [PerceptualDiscrimination(dt = 10, tau = 100, T = 2000, N_batch = 50, coherence = .7 - i/5) for i in range(4)]"
   ]
  },
  {
   "cell_type": "markdown",
   "metadata": {},
   "source": [
    "Set optional parameters for the curriculum object. More information about these parameters is available [here](../apidoc/backend.rst#module-psychrnn.backend.curriculum)."
   ]
  },
  {
   "cell_type": "code",
   "execution_count": 4,
   "metadata": {},
   "outputs": [],
   "source": [
    "metric = default_metric # Function for calculating whether the stage advances and what the metric value is at each metric_epoch. Default: default_metric().\n",
    "accuracies = [pds[i].accuracy_function for i in range(len(pds))] # optional list of functions to use to calculate network performance for the purposes of advancing tasks. Used by default_metric() to compute accuracy. Default: [tasks[i].accuracy_function for i in range(len(tasks))].\n",
    "thresholds = [.9 for i in range(len(pds))] # Optional list of thresholds. If metric = default_metric, accuracies must reach the threshold for a given stage in order to advance to the next stage. Default: [.9 for i in range(len(tasks))]\n",
    "metric_epoch = 1 # calculate the metric / test if advance to the next stage every metric_epoch training epochs.\n",
    "output_file = None # Optional path to save out metric value and stage to. Default: None."
   ]
  },
  {
   "cell_type": "markdown",
   "metadata": {},
   "source": [
    "Initialize a curriculum object with information about the tasks we want to train on."
   ]
  },
  {
   "cell_type": "code",
   "execution_count": 5,
   "metadata": {},
   "outputs": [],
   "source": [
    "curriculum = Curriculum(pds, output_file=output_file, metric_epoch=metric_epoch, thresholds=thresholds, accuracies=accuracies, metric=metric)"
   ]
  },
  {
   "cell_type": "markdown",
   "metadata": {},
   "source": [
    "## Initialize Models"
   ]
  },
  {
   "cell_type": "markdown",
   "metadata": {},
   "source": [
    "We add in a few params that Basic(RNN) needs but that PerceptualDiscrimination doesn't generate for us."
   ]
  },
  {
   "cell_type": "code",
   "execution_count": 6,
   "metadata": {},
   "outputs": [],
   "source": [
    "network_params = pds[0].get_task_params()\n",
    "network_params['name'] = 'curriculumModel' #Used to scope out a namespace for global variables.\n",
    "network_params['N_rec'] = 50"
   ]
  },
  {
   "cell_type": "markdown",
   "metadata": {},
   "source": [
    "Instantiate two models. *curriculumModel* that will be trained on the series of tasks, pds, defined above. *basicModel* will be trained only on the final task with lowest coherence."
   ]
  },
  {
   "cell_type": "code",
   "execution_count": 7,
   "metadata": {},
   "outputs": [],
   "source": [
    "curriculumModel = Basic(network_params)\n",
    "network_params['name'] = 'basicModel'\n",
    "basicModel = Basic(network_params)"
   ]
  },
  {
   "cell_type": "markdown",
   "metadata": {},
   "source": [
    "## Train Models"
   ]
  },
  {
   "cell_type": "markdown",
   "metadata": {},
   "source": [
    "Set the training parameters for our model to include curriculum. The other training parameters shown in [Simple Example](PerceptualDiscrimination.ipynb) can also be included."
   ]
  },
  {
   "cell_type": "code",
   "execution_count": 8,
   "metadata": {},
   "outputs": [],
   "source": [
    "train_params = {}\n",
    "train_params['curriculum'] = curriculum"
   ]
  },
  {
   "cell_type": "markdown",
   "metadata": {},
   "source": [
    "We  will train the curriculum model using [train_curric()](../apidoc/backend.rst#psychrnn.backend.rnn.RNN.train_curric) which is a wrapper for [train](../apidoc/backend.rst#psychrnn.backend.rnn.RNN.train) that does't require a task to be passed in outside of the curriculum entry in train_params."
   ]
  },
  {
   "cell_type": "code",
   "execution_count": 9,
   "metadata": {},
   "outputs": [
    {
     "name": "stdout",
     "output_type": "stream",
     "text": [
      "Accuracy: 0.6\n",
      "Accuracy: 0.62\n",
      "Accuracy: 0.48\n",
      "Accuracy: 0.48\n",
      "Accuracy: 0.44\n",
      "Accuracy: 0.44\n",
      "Accuracy: 0.42\n",
      "Accuracy: 0.5\n",
      "Accuracy: 0.5\n",
      "Iter 500, Minibatch Loss= 0.180899\n",
      "Accuracy: 0.62\n",
      "Accuracy: 0.46\n",
      "Accuracy: 0.52\n",
      "Accuracy: 0.46\n",
      "Accuracy: 0.52\n",
      "Accuracy: 0.6\n",
      "Accuracy: 0.38\n",
      "Accuracy: 0.6\n",
      "Accuracy: 0.6\n",
      "Accuracy: 0.4\n",
      "Iter 1000, Minibatch Loss= 0.114158\n",
      "Accuracy: 0.48\n",
      "Accuracy: 0.44\n",
      "Accuracy: 0.5\n",
      "Accuracy: 0.5\n",
      "Accuracy: 0.58\n",
      "Accuracy: 0.98\n",
      "Stage 1\n",
      "Accuracy: 1.0\n",
      "Stage 2\n",
      "Accuracy: 1.0\n",
      "Stage 3\n",
      "Accuracy: 0.92\n",
      "Stage 4\n",
      "Optimization finished!\n"
     ]
    }
   ],
   "source": [
    "curric_losses, initialTime, trainTime = curriculumModel.train_curric(train_params)"
   ]
  },
  {
   "cell_type": "markdown",
   "metadata": {},
   "source": [
    "Set training parameters for the non-curriculum model. We use performance_measure and cutoff so that the model trains until it 90% accurate on the hardest task, just like the curriculum model does. This will give us a more fair comparison when we look at losses and training time"
   ]
  },
  {
   "cell_type": "code",
   "execution_count": 10,
   "metadata": {},
   "outputs": [],
   "source": [
    "def performance_measure(trial_batch, trial_y, output_mask, output, epoch, losses, verbosity):\n",
    "    return pds[len(pds)-1].accuracy_function(trial_y, output, output_mask)\n",
    "\n",
    "train_params['curriculum'] = None\n",
    "train_params['performance_measure'] = performance_measure\n",
    "train_params['performance_cutoff'] = .9"
   ]
  },
  {
   "cell_type": "markdown",
   "metadata": {},
   "source": [
    "Train the non-curriculum model."
   ]
  },
  {
   "cell_type": "code",
   "execution_count": 11,
   "metadata": {},
   "outputs": [
    {
     "name": "stdout",
     "output_type": "stream",
     "text": [
      "performance: 0.54\n",
      "performance: 0.6\n",
      "performance: 0.42\n",
      "performance: 0.54\n",
      "performance: 0.26\n",
      "performance: 0.24\n",
      "performance: 0.58\n",
      "performance: 0.42\n",
      "performance: 0.52\n",
      "Iter 500, Minibatch Loss= 0.102338\n",
      "performance: 0.56\n",
      "performance: 0.56\n",
      "performance: 0.46\n",
      "performance: 0.48\n",
      "performance: 0.56\n",
      "performance: 0.54\n",
      "performance: 0.52\n",
      "performance: 0.5\n",
      "performance: 0.54\n",
      "performance: 0.56\n",
      "Iter 1000, Minibatch Loss= 0.084302\n",
      "performance: 0.4\n",
      "performance: 0.48\n",
      "performance: 0.52\n",
      "performance: 0.44\n",
      "performance: 0.46\n",
      "performance: 0.5\n",
      "performance: 0.64\n",
      "performance: 0.38\n",
      "performance: 0.52\n",
      "performance: 0.56\n",
      "Iter 1500, Minibatch Loss= 0.093645\n",
      "performance: 0.44\n",
      "performance: 0.5\n",
      "performance: 0.46\n",
      "performance: 0.5\n",
      "performance: 0.4\n",
      "performance: 0.5\n",
      "performance: 0.46\n",
      "performance: 0.6\n",
      "performance: 0.6\n",
      "performance: 0.56\n",
      "Iter 2000, Minibatch Loss= 0.082302\n",
      "performance: 0.58\n",
      "performance: 0.4\n",
      "performance: 0.46\n",
      "performance: 0.5\n",
      "performance: 0.46\n",
      "performance: 0.54\n",
      "performance: 0.62\n",
      "performance: 0.46\n",
      "performance: 0.42\n",
      "performance: 0.56\n",
      "Iter 2500, Minibatch Loss= 0.085385\n",
      "performance: 0.56\n",
      "performance: 0.44\n",
      "performance: 0.5\n",
      "performance: 0.52\n",
      "performance: 0.36\n",
      "performance: 0.42\n",
      "performance: 0.56\n",
      "performance: 0.7\n",
      "performance: 0.96\n",
      "Optimization finished!\n"
     ]
    }
   ],
   "source": [
    "basic_losses, initialTime, trainTime= basicModel.train(pds[len(pds)-1], train_params)"
   ]
  },
  {
   "cell_type": "markdown",
   "metadata": {},
   "source": [
    "### Plot Losses"
   ]
  },
  {
   "cell_type": "markdown",
   "metadata": {},
   "source": [
    "Plot the losses from curriculum and non curriculum training."
   ]
  },
  {
   "cell_type": "code",
   "execution_count": 12,
   "metadata": {},
   "outputs": [
    {
     "data": {
      "image/png": "[encoded data removed]",
      "text/plain": [
       "<Figure size 432x288 with 1 Axes>"
      ]
     },
     "metadata": {
      "needs_background": "light"
     },
     "output_type": "display_data"
    }
   ],
   "source": [
    "plt.plot( curric_losses, 'b--', label = 'no curriculum')\n",
    "plt.plot(basic_losses, 'g--', label='curriculum')\n",
    "plt.legend()\n",
    "plt.title(\"Loss during Training for Curriculum vs. Non-Curriculum Models\")\n",
    "plt.ylabel('Loss')\n",
    "plt.xlabel('Training iterations')\n",
    "plt.show()"
   ]
  },
  {
   "cell_type": "markdown",
   "metadata": {},
   "source": [
    "## Cleanup"
   ]
  },
  {
   "cell_type": "code",
   "execution_count": 13,
   "metadata": {},
   "outputs": [],
   "source": [
    "basicModel.destruct()"
   ]
  },
  {
   "cell_type": "code",
   "execution_count": 14,
   "metadata": {},
   "outputs": [],
   "source": [
    "curriculumModel.destruct()"
   ]
  }
 ],
 "metadata": {
  "celltoolbar": "Edit Metadata",
  "kernelspec": {
   "display_name": "Python 3",
   "language": "python",
   "name": "python3"
  },
  "language_info": {
   "codemirror_mode": {
    "name": "ipython",
    "version": 3
   },
   "file_extension": ".py",
   "mimetype": "text/x-python",
   "name": "python",
   "nbconvert_exporter": "python",
   "pygments_lexer": "ipython3",
   "version": "3.6.9"
  }
 },
 "nbformat": 4,
 "nbformat_minor": 2
}
