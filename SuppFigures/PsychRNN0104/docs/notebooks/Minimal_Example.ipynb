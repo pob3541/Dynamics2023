{
 "cells": [
  {
   "cell_type": "code",
   "execution_count": 1,
   "metadata": {
    "nbsphinx": "hidden"
   },
   "outputs": [],
   "source": [
    "# THIS CELL SETS STUFF UP FOR DEMO / COLLAB. THIS CELL CAN BE IGNORED.\n",
    "\n",
    "#-------------------------------------GET RID OF TF DEPRECATION WARNINGS--------------------------------------#\n",
    "import warnings\n",
    "warnings.filterwarnings('ignore', category=FutureWarning)\n",
    "\n",
    "import tensorflow as tf\n",
    "tf.compat.v1.logging.set_verbosity(tf.compat.v1.logging.ERROR)\n",
    "\n",
    "#----------------------------------INSTALL PSYCHRNN IF IN A COLAB NOTEBOOK-------------------------------------#\n",
    "# Installs the correct branch / release version based on the URL. If no branch is provided, loads from master.\n",
    "try:\n",
    "  import google.colab\n",
    "  IN_COLAB = True\n",
    "except:\n",
    "  IN_COLAB = False\n",
    "\n",
    "if IN_COLAB:\n",
    "    import json\n",
    "    import re\n",
    "    import ipykernel\n",
    "    import requests \n",
    "    from requests.compat import urljoin\n",
    "\n",
    "    from notebook.notebookapp import list_running_servers\n",
    "    kernel_id = re.search('kernel-(.*).json',\n",
    "                          ipykernel.connect.get_connection_file()).group(1)\n",
    "    servers = list_running_servers()\n",
    "    for ss in servers:\n",
    "        response = requests.get(urljoin(ss['url'], 'api/sessions'),\n",
    "                                params={'token': ss.get('token', '')})\n",
    "        for nn in json.loads(response.text):\n",
    "            if nn['kernel']['id'] == kernel_id:\n",
    "                relative_path = nn['notebook']['path'].split('%2F')\n",
    "                if 'blob' in relative_path:\n",
    "                  blob = relative_path[relative_path.index('blob') + 1]\n",
    "                  !pip install git+https://github.com/murraylab/PsychRNN@$blob\n",
    "                else:\n",
    "                  !pip install git+https://github.com/murraylab/PsychRNN"
   ]
  },
  {
   "cell_type": "markdown",
   "metadata": {},
   "source": [
    "# Hello World!"
   ]
  },
  {
   "cell_type": "markdown",
   "metadata": {},
   "source": [
    "A popular 2-alternative forced choice perceptual discrimination task is the random dot motion (RDM) task. In RDM, the subject observes dots moving in different directions. The RDM task is a forced choice task -- although dots can move in any direction, their are two directions in which the movement of the coherent dots could be. The subject must make a choice towards one of the two directions at the end of the stimulus period ([Britten et al., 1992](https://www.jneurosci.org/content/12/12/4745)).\n",
    "\n",
    "To make it possible for an RNN to complete this task, we model this task as two simultaneous noisy inputs into each of two input channels, representing the two directions. The network must determine which channel has the higher mean input and respond by driving the corresponding output unit to 1, and the other output unit to .2. We've included this example task in PsychRNN as [PerceptualDiscrimination](../apidoc/tasks.rst#module-psychrnn.tasks.perceptual_discrimination). \n",
    "\n",
    "To get started, let's train a basic model in PsychRNN on this 2-alternative forced choice perceptual discrimination task and test how it does on task input. For simplicity, we will use the model defaults."
   ]
  },
  {
   "cell_type": "code",
   "execution_count": 2,
   "metadata": {},
   "outputs": [
    {
     "name": "stdout",
     "output_type": "stream",
     "text": [
      "Iter 1280, Minibatch Loss= 0.173182\n",
      "Iter 2560, Minibatch Loss= 0.110828\n",
      "Iter 3840, Minibatch Loss= 0.089823\n",
      "Iter 5120, Minibatch Loss= 0.090613\n",
      "Iter 6400, Minibatch Loss= 0.082815\n",
      "Iter 7680, Minibatch Loss= 0.084474\n",
      "Iter 8960, Minibatch Loss= 0.084676\n",
      "Iter 10240, Minibatch Loss= 0.082200\n",
      "Iter 11520, Minibatch Loss= 0.076985\n",
      "Iter 12800, Minibatch Loss= 0.080215\n",
      "Iter 14080, Minibatch Loss= 0.078905\n",
      "Iter 15360, Minibatch Loss= 0.074752\n",
      "Iter 16640, Minibatch Loss= 0.071335\n",
      "Iter 17920, Minibatch Loss= 0.062578\n",
      "Iter 19200, Minibatch Loss= 0.040781\n",
      "Iter 20480, Minibatch Loss= 0.033980\n",
      "Iter 21760, Minibatch Loss= 0.043546\n",
      "Iter 23040, Minibatch Loss= 0.025923\n",
      "Iter 24320, Minibatch Loss= 0.022121\n",
      "Iter 25600, Minibatch Loss= 0.018697\n",
      "Iter 26880, Minibatch Loss= 0.018280\n",
      "Iter 28160, Minibatch Loss= 0.021877\n",
      "Iter 29440, Minibatch Loss= 0.016974\n",
      "Iter 30720, Minibatch Loss= 0.020424\n",
      "Iter 32000, Minibatch Loss= 0.022463\n",
      "Iter 33280, Minibatch Loss= 0.018284\n",
      "Iter 34560, Minibatch Loss= 0.029344\n",
      "Iter 35840, Minibatch Loss= 0.014679\n",
      "Iter 37120, Minibatch Loss= 0.024408\n",
      "Iter 38400, Minibatch Loss= 0.016357\n",
      "Iter 39680, Minibatch Loss= 0.023122\n",
      "Iter 40960, Minibatch Loss= 0.019468\n",
      "Iter 42240, Minibatch Loss= 0.018826\n",
      "Iter 43520, Minibatch Loss= 0.013565\n",
      "Iter 44800, Minibatch Loss= 0.015086\n",
      "Iter 46080, Minibatch Loss= 0.018692\n",
      "Iter 47360, Minibatch Loss= 0.012970\n",
      "Iter 48640, Minibatch Loss= 0.018514\n",
      "Iter 49920, Minibatch Loss= 0.016651\n",
      "Optimization finished!\n"
     ]
    },
    {
     "data": {
      "image/png": "[encoded data removed]",
      "text/plain": [
       "<Figure size 432x288 with 1 Axes>"
      ]
     },
     "metadata": {
      "needs_background": "light"
     },
     "output_type": "display_data"
    }
   ],
   "source": [
    "from matplotlib import pyplot as plt\n",
    "%matplotlib inline\n",
    "\n",
    "# ---------------------- Import the package ---------------------------\n",
    "from psychrnn.tasks.perceptual_discrimination import PerceptualDiscrimination\n",
    "from psychrnn.backend.models.basic import Basic\n",
    "\n",
    "# ---------------------- Set up a basic model ---------------------------\n",
    "pd = PerceptualDiscrimination(dt = 10, tau = 100, T = 2000, N_batch = 128)\n",
    "network_params = pd.get_task_params() # get the params passed in and defined in pd\n",
    "network_params['name'] = 'model' # name the model uniquely if running mult models in unison\n",
    "network_params['N_rec'] = 50 # set the number of recurrent units in the model\n",
    "model = Basic(network_params) # instantiate a basic vanilla RNN\n",
    "\n",
    "# ---------------------- Train a basic model ---------------------------\n",
    "model.train(pd) # train model to perform pd task\n",
    "\n",
    "# ---------------------- Test the trained model ---------------------------\n",
    "x,target_output,mask, trial_params = pd.get_trial_batch() # get pd task inputs and outputs\n",
    "model_output, model_state = model.test(x) # run the model on input x\n",
    "\n",
    "# ---------------------- Plot the results ---------------------------\n",
    "plt.plot(model_output[0])\n",
    "\n",
    "# ---------------------- Teardown the model -------------------------\n",
    "model.destruct()"
   ]
  },
  {
   "cell_type": "markdown",
   "metadata": {},
   "source": [
    "Congratulations! You’ve successfully trained and tested your first model! Continue to [Simple Example](./PerceptualDiscrimination.ipynb) to learn how to define more useful models."
   ]
  }
 ],
 "metadata": {
  "celltoolbar": "Edit Metadata",
  "kernelspec": {
   "display_name": "Python 3",
   "language": "python",
   "name": "python3"
  },
  "language_info": {
   "codemirror_mode": {
    "name": "ipython",
    "version": 3
   },
   "file_extension": ".py",
   "mimetype": "text/x-python",
   "name": "python",
   "nbconvert_exporter": "python",
   "pygments_lexer": "ipython3",
   "version": "3.6.9"
  }
 },
 "nbformat": 4,
 "nbformat_minor": 2
}
